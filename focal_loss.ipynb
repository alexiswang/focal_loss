{
 "cells": [
  {
   "cell_type": "markdown",
   "metadata": {},
   "source": [
    "## Introduction\n",
    "\n",
    "When I was searching for approaches to handle imbalanced dataset, one potential solution I encountered is using focal loss as the loss function, which was initially proposed to resolve the imbalance issues for object detection problems. There has been attempts to apply this to LightGBM with some common pitfalls identified in [1]. Inspired by these work, my goal is to create a classifier that uses focal loss by default.\n",
    "\n",
    "The obvious question is why couldn't we simply use `LGMClassifier`, the sklearn api for LightGBM, and directly set a custom objective function. Well, while it does offer the option to set `objective`, it has been found that implementing focal loss with LightGBM requires resetting initialization values [1], which essentially breaks down the model building process to several steps. What I'd like to have is a model class object that can be easily called like any other sklearn models. \n",
    "\n",
    "To this end, the notebook will start replicating the implementation as described in [1] and then "
   ]
  },
  {
   "cell_type": "code",
   "execution_count": 1,
   "metadata": {},
   "outputs": [],
   "source": [
    "import pandas as pd\n",
    "from scipy.io import arff\n",
    "import numpy as np\n",
    "import lightgbm as lgb\n",
    "from sklearn.model_selection import train_test_split\n",
    "from scipy import special\n",
    "from sklearn import metrics\n"
   ]
  },
  {
   "cell_type": "code",
   "execution_count": 2,
   "metadata": {},
   "outputs": [
    {
     "data": {
      "text/html": [
       "<div>\n",
       "<style scoped>\n",
       "    .dataframe tbody tr th:only-of-type {\n",
       "        vertical-align: middle;\n",
       "    }\n",
       "\n",
       "    .dataframe tbody tr th {\n",
       "        vertical-align: top;\n",
       "    }\n",
       "\n",
       "    .dataframe thead th {\n",
       "        text-align: right;\n",
       "    }\n",
       "</style>\n",
       "<table border=\"1\" class=\"dataframe\">\n",
       "  <thead>\n",
       "    <tr style=\"text-align: right;\">\n",
       "      <th></th>\n",
       "      <th>Time</th>\n",
       "      <th>V1</th>\n",
       "      <th>V2</th>\n",
       "      <th>V3</th>\n",
       "      <th>V4</th>\n",
       "      <th>V5</th>\n",
       "      <th>V6</th>\n",
       "      <th>V7</th>\n",
       "      <th>V8</th>\n",
       "      <th>V9</th>\n",
       "      <th>...</th>\n",
       "      <th>V21</th>\n",
       "      <th>V22</th>\n",
       "      <th>V23</th>\n",
       "      <th>V24</th>\n",
       "      <th>V25</th>\n",
       "      <th>V26</th>\n",
       "      <th>V27</th>\n",
       "      <th>V28</th>\n",
       "      <th>Amount</th>\n",
       "      <th>Class</th>\n",
       "    </tr>\n",
       "  </thead>\n",
       "  <tbody>\n",
       "    <tr>\n",
       "      <th>0</th>\n",
       "      <td>0.0</td>\n",
       "      <td>-1.359807</td>\n",
       "      <td>-0.072781</td>\n",
       "      <td>2.536347</td>\n",
       "      <td>1.378155</td>\n",
       "      <td>-0.338321</td>\n",
       "      <td>0.462388</td>\n",
       "      <td>0.239599</td>\n",
       "      <td>0.098698</td>\n",
       "      <td>0.363787</td>\n",
       "      <td>...</td>\n",
       "      <td>-0.018307</td>\n",
       "      <td>0.277838</td>\n",
       "      <td>-0.110474</td>\n",
       "      <td>0.066928</td>\n",
       "      <td>0.128539</td>\n",
       "      <td>-0.189115</td>\n",
       "      <td>0.133558</td>\n",
       "      <td>-0.021053</td>\n",
       "      <td>149.62</td>\n",
       "      <td>b'0'</td>\n",
       "    </tr>\n",
       "    <tr>\n",
       "      <th>1</th>\n",
       "      <td>0.0</td>\n",
       "      <td>1.191857</td>\n",
       "      <td>0.266151</td>\n",
       "      <td>0.166480</td>\n",
       "      <td>0.448154</td>\n",
       "      <td>0.060018</td>\n",
       "      <td>-0.082361</td>\n",
       "      <td>-0.078803</td>\n",
       "      <td>0.085102</td>\n",
       "      <td>-0.255425</td>\n",
       "      <td>...</td>\n",
       "      <td>-0.225775</td>\n",
       "      <td>-0.638672</td>\n",
       "      <td>0.101288</td>\n",
       "      <td>-0.339846</td>\n",
       "      <td>0.167170</td>\n",
       "      <td>0.125895</td>\n",
       "      <td>-0.008983</td>\n",
       "      <td>0.014724</td>\n",
       "      <td>2.69</td>\n",
       "      <td>b'0'</td>\n",
       "    </tr>\n",
       "    <tr>\n",
       "      <th>2</th>\n",
       "      <td>1.0</td>\n",
       "      <td>-1.358354</td>\n",
       "      <td>-1.340163</td>\n",
       "      <td>1.773209</td>\n",
       "      <td>0.379780</td>\n",
       "      <td>-0.503198</td>\n",
       "      <td>1.800499</td>\n",
       "      <td>0.791461</td>\n",
       "      <td>0.247676</td>\n",
       "      <td>-1.514654</td>\n",
       "      <td>...</td>\n",
       "      <td>0.247998</td>\n",
       "      <td>0.771679</td>\n",
       "      <td>0.909412</td>\n",
       "      <td>-0.689281</td>\n",
       "      <td>-0.327642</td>\n",
       "      <td>-0.139097</td>\n",
       "      <td>-0.055353</td>\n",
       "      <td>-0.059752</td>\n",
       "      <td>378.66</td>\n",
       "      <td>b'0'</td>\n",
       "    </tr>\n",
       "    <tr>\n",
       "      <th>3</th>\n",
       "      <td>1.0</td>\n",
       "      <td>-0.966272</td>\n",
       "      <td>-0.185226</td>\n",
       "      <td>1.792993</td>\n",
       "      <td>-0.863291</td>\n",
       "      <td>-0.010309</td>\n",
       "      <td>1.247203</td>\n",
       "      <td>0.237609</td>\n",
       "      <td>0.377436</td>\n",
       "      <td>-1.387024</td>\n",
       "      <td>...</td>\n",
       "      <td>-0.108300</td>\n",
       "      <td>0.005274</td>\n",
       "      <td>-0.190321</td>\n",
       "      <td>-1.175575</td>\n",
       "      <td>0.647376</td>\n",
       "      <td>-0.221929</td>\n",
       "      <td>0.062723</td>\n",
       "      <td>0.061458</td>\n",
       "      <td>123.50</td>\n",
       "      <td>b'0'</td>\n",
       "    </tr>\n",
       "    <tr>\n",
       "      <th>4</th>\n",
       "      <td>2.0</td>\n",
       "      <td>-1.158233</td>\n",
       "      <td>0.877737</td>\n",
       "      <td>1.548718</td>\n",
       "      <td>0.403034</td>\n",
       "      <td>-0.407193</td>\n",
       "      <td>0.095921</td>\n",
       "      <td>0.592941</td>\n",
       "      <td>-0.270533</td>\n",
       "      <td>0.817739</td>\n",
       "      <td>...</td>\n",
       "      <td>-0.009431</td>\n",
       "      <td>0.798278</td>\n",
       "      <td>-0.137458</td>\n",
       "      <td>0.141267</td>\n",
       "      <td>-0.206010</td>\n",
       "      <td>0.502292</td>\n",
       "      <td>0.219422</td>\n",
       "      <td>0.215153</td>\n",
       "      <td>69.99</td>\n",
       "      <td>b'0'</td>\n",
       "    </tr>\n",
       "  </tbody>\n",
       "</table>\n",
       "<p>5 rows × 31 columns</p>\n",
       "</div>"
      ],
      "text/plain": [
       "   Time        V1        V2        V3        V4        V5        V6        V7  \\\n",
       "0   0.0 -1.359807 -0.072781  2.536347  1.378155 -0.338321  0.462388  0.239599   \n",
       "1   0.0  1.191857  0.266151  0.166480  0.448154  0.060018 -0.082361 -0.078803   \n",
       "2   1.0 -1.358354 -1.340163  1.773209  0.379780 -0.503198  1.800499  0.791461   \n",
       "3   1.0 -0.966272 -0.185226  1.792993 -0.863291 -0.010309  1.247203  0.237609   \n",
       "4   2.0 -1.158233  0.877737  1.548718  0.403034 -0.407193  0.095921  0.592941   \n",
       "\n",
       "         V8        V9  ...       V21       V22       V23       V24       V25  \\\n",
       "0  0.098698  0.363787  ... -0.018307  0.277838 -0.110474  0.066928  0.128539   \n",
       "1  0.085102 -0.255425  ... -0.225775 -0.638672  0.101288 -0.339846  0.167170   \n",
       "2  0.247676 -1.514654  ...  0.247998  0.771679  0.909412 -0.689281 -0.327642   \n",
       "3  0.377436 -1.387024  ... -0.108300  0.005274 -0.190321 -1.175575  0.647376   \n",
       "4 -0.270533  0.817739  ... -0.009431  0.798278 -0.137458  0.141267 -0.206010   \n",
       "\n",
       "        V26       V27       V28  Amount  Class  \n",
       "0 -0.189115  0.133558 -0.021053  149.62   b'0'  \n",
       "1  0.125895 -0.008983  0.014724    2.69   b'0'  \n",
       "2 -0.139097 -0.055353 -0.059752  378.66   b'0'  \n",
       "3 -0.221929  0.062723  0.061458  123.50   b'0'  \n",
       "4  0.502292  0.219422  0.215153   69.99   b'0'  \n",
       "\n",
       "[5 rows x 31 columns]"
      ]
     },
     "execution_count": 2,
     "metadata": {},
     "output_type": "execute_result"
    }
   ],
   "source": [
    "# load data\n",
    "data = arff.loadarff('phpKo8OWT.arff')\n",
    "df = pd.DataFrame(data[0])\n",
    "df.head()"
   ]
  },
  {
   "cell_type": "code",
   "execution_count": 3,
   "metadata": {},
   "outputs": [],
   "source": [
    "# data processing\n",
    "X = df.drop('Class', axis=1)\n",
    "y = df['Class']\n",
    "y = y.map({b'0': 0, b'1':1})\n",
    "X_train, X_test, y_train, y_test = train_test_split(X, y, random_state=42)"
   ]
  },
  {
   "cell_type": "markdown",
   "metadata": {},
   "source": [
    "## Logloss implementation\n",
    "\n",
    "First let's try to write some functions for logloss so we can compare this with the custom ."
   ]
  },
  {
   "cell_type": "code",
   "execution_count": 4,
   "metadata": {},
   "outputs": [],
   "source": [
    "from scipy import special\n",
    "from sklearn import metrics\n",
    "\n",
    "def logloss_init_score(y):\n",
    "    p = y.mean()\n",
    "    p = np.clip(p, 1e-15, 1 - 1e-15)\n",
    "    log_odds = np.log(p / (1 - p))\n",
    "    return log_odds\n",
    "\n",
    "def logloss_objective(preds, train_data):\n",
    "    y = train_data.get_label()\n",
    "    p = special.expit(preds)\n",
    "    grad = p - y\n",
    "    hess = p * (1 - p)\n",
    "    return grad, hess\n",
    "\n",
    "def logloss_metric(preds, train_data):\n",
    "    y = train_data.get_label()\n",
    "    p = special.expit(preds)\n",
    "    is_higher_better = False\n",
    "    return 'logloss', metrics.log_loss(y, p), is_higher_better"
   ]
  },
  {
   "cell_type": "code",
   "execution_count": 5,
   "metadata": {},
   "outputs": [
    {
     "name": "stdout",
     "output_type": "stream",
     "text": [
      "[LightGBM] [Info] Number of positive: 379, number of negative: 213226\n",
      "[LightGBM] [Info] Auto-choosing row-wise multi-threading, the overhead of testing was 0.023767 seconds.\n",
      "You can set `force_row_wise=true` to remove the overhead.\n",
      "And if memory is not enough, you can set `force_col_wise=true`.\n",
      "[LightGBM] [Info] Total Bins 7650\n",
      "[LightGBM] [Info] Number of data points in the train set: 213605, number of used features: 30\n",
      "[LightGBM] [Info] [binary:BoostFromScore]: pavg=0.001774 -> initscore=-6.332572\n",
      "[LightGBM] [Info] Start training from score -6.332572\n",
      "Test ROC AUC: 0.97091\n",
      "Test logloss 0.00327\n"
     ]
    }
   ],
   "source": [
    "# train a lightgbm model with defaul loss function\n",
    "# IMPORTANT NOTE: we need to set objective and learning rate explicitly so we can get the same result\n",
    "params = {\n",
    "    'objective': 'binary',\n",
    "    'learning_rate': 0.01,\n",
    "    'random_seed': 0 }\n",
    "\n",
    "train_set = lgb.Dataset(data=X_train, label=y_train)\n",
    "model = lgb.train(params=params, train_set=train_set, valid_sets=train_set)\n",
    "y_pred = model.predict(X_test)\n",
    "print(f\"Test ROC AUC: {metrics.roc_auc_score(y_test, y_pred):.5f}\")\n",
    "print(f\"Test logloss {metrics.log_loss(y_test, y_pred):.5f}\")"
   ]
  },
  {
   "cell_type": "code",
   "execution_count": 6,
   "metadata": {},
   "outputs": [
    {
     "name": "stdout",
     "output_type": "stream",
     "text": [
      "[LightGBM] [Info] Using self-defined objective function\n",
      "[LightGBM] [Info] Auto-choosing col-wise multi-threading, the overhead of testing was 0.012113 seconds.\n",
      "You can set `force_col_wise=true` to remove the overhead.\n",
      "[LightGBM] [Info] Total Bins 7650\n",
      "[LightGBM] [Info] Number of data points in the train set: 213605, number of used features: 30\n",
      "[LightGBM] [Info] Using self-defined objective function\n",
      "Test ROC AUC: 0.97091\n",
      "Test logloss 0.00327\n"
     ]
    }
   ],
   "source": [
    "# now train the lightgbm model with the custom logloss function\n",
    "# we should expect the same result\n",
    "params = {\n",
    "        'learning_rate': 0.01,\n",
    "          'random_seed': 0,\n",
    "          'objective': logloss_objective\n",
    "}\n",
    "init_scores = np.full_like(y_train, logloss_init_score(y_train), dtype=float)\n",
    "train_set = lgb.Dataset(data=X_train, label=y_train, init_score=init_scores)\n",
    "model = lgb.train(params=params, train_set=train_set, feval=logloss_metric)\n",
    "y_pred = special.expit(logloss_init_score(y_train)+model.predict(X_test))\n",
    "print(f\"Test ROC AUC: {metrics.roc_auc_score(y_test, y_pred):.5f}\")\n",
    "print(f\"Test logloss {metrics.log_loss(y_test, y_pred):.5f}\")\n"
   ]
  },
  {
   "cell_type": "code",
   "execution_count": 7,
   "metadata": {},
   "outputs": [
    {
     "name": "stdout",
     "output_type": "stream",
     "text": [
      "[LightGBM] [Info] Number of positive: 379, number of negative: 213226\n",
      "[LightGBM] [Info] Auto-choosing col-wise multi-threading, the overhead of testing was 0.012609 seconds.\n",
      "You can set `force_col_wise=true` to remove the overhead.\n",
      "[LightGBM] [Info] Total Bins 7650\n",
      "[LightGBM] [Info] Number of data points in the train set: 213605, number of used features: 30\n",
      "[LightGBM] [Info] [binary:BoostFromScore]: pavg=0.001774 -> initscore=-6.332572\n",
      "[LightGBM] [Info] Start training from score -6.332572\n",
      "Test ROC AUC: 0.84510\n",
      "Test logloss 0.01974\n"
     ]
    }
   ],
   "source": [
    "# train the model using scikit-learn API \n",
    "# interestingly if we use LGBMClassifier, we have different results possibly due to other parameter setting. \n",
    "\n",
    "model = lgb.LGBMClassifier()\n",
    "params = {\"objective\": 'binary', \"learning_rate\": 0.01, \"random_seed\": 0}\n",
    "model.set_params(**params)\n",
    "model.fit(X_train, y_train)\n",
    "y_pred = model.predict(X_test)\n",
    "print(f\"Test ROC AUC: {metrics.roc_auc_score(y_test, y_pred):.5f}\")\n",
    "print(f\"Test logloss {metrics.log_loss(y_test, y_pred):.5f}\")"
   ]
  },
  {
   "cell_type": "markdown",
   "metadata": {},
   "source": [
    "## Focal loss implementation\n",
    "\n",
    "Now let's use the model with focal loss implemented. There are two important parameters for the focal loss function defined as `obj_alpha` and `obj_gamma`. By default, they are set to 0 and None, which makes the focal loss equivalent to logloss. \n",
    "\n",
    "If we call the model with these settings, we can see the results are very similar to the naive LightGBM model. "
   ]
  },
  {
   "cell_type": "code",
   "execution_count": 8,
   "metadata": {},
   "outputs": [
    {
     "name": "stdout",
     "output_type": "stream",
     "text": [
      "Test ROC AUC: 0.97084\n",
      "Test logloss 0.00327\n"
     ]
    }
   ],
   "source": [
    "from models import CustomLGBMClassifier\n",
    "from logger import CustomLogger\n",
    "lgb.register_logger(CustomLogger())\n",
    "model = CustomLGBMClassifier()\n",
    "params = {\n",
    " 'learning_rate': 0.01,\n",
    " 'random_seed': 0\n",
    "}\n",
    "model.set_params(**params)\n",
    "model.fit(X_train, y_train)\n",
    "y_pred = model.predict_proba(X_test)[:, 1]\n",
    "print(f\"Test ROC AUC: {metrics.roc_auc_score(y_test, y_pred):.5f}\")\n",
    "print(f\"Test logloss {metrics.log_loss(y_test, y_pred):.5f}\")"
   ]
  },
  {
   "cell_type": "markdown",
   "metadata": {},
   "source": [
    "I also added other methods such as `set_params` to the model so that it can be used just like `LGBMClassifier` for things such as visualisation and hyper-parameter tuning."
   ]
  },
  {
   "cell_type": "code",
   "execution_count": 9,
   "metadata": {},
   "outputs": [
    {
     "data": {
      "text/plain": [
       "<Axes: title={'center': 'Metric during training'}, xlabel='Iterations', ylabel='focal_loss'>"
      ]
     },
     "execution_count": 9,
     "metadata": {},
     "output_type": "execute_result"
    },
    {
     "data": {
      "image/png": "[encoded data removed]",
      "text/plain": [
       "<Figure size 640x480 with 1 Axes>"
      ]
     },
     "metadata": {},
     "output_type": "display_data"
    }
   ],
   "source": [
    "from lightgbm import plot_metric, plot_tree\n",
    "model.fit(X_train, y_train, eval_set=(X_test, y_test))\n",
    "plot_metric(model)"
   ]
  },
  {
   "cell_type": "code",
   "execution_count": 10,
   "metadata": {},
   "outputs": [
    {
     "name": "stdout",
     "output_type": "stream",
     "text": [
      "Test ROC AUC: 0.96648\n",
      "Test logloss 0.05321\n"
     ]
    }
   ],
   "source": [
    "model = CustomLGBMClassifier()\n",
    "params = {\n",
    "          'early_stopping_round': 20,\n",
    "          'obj_alpha': 0.5,\n",
    "          'obj_gamma': 2,\n",
    "          'n_estimator': 200,\n",
    "        'random_seed': 0\n",
    "        }\n",
    "model.set_params(**params)\n",
    "\n",
    "model.fit(X_train, y_train, eval_set=(X_test, y_test))\n",
    "y_pred = model.predict_proba(X_test)[:, 1]\n",
    "print(f\"Test ROC AUC: {metrics.roc_auc_score(y_test, y_pred):.5f}\")\n",
    "print(f\"Test logloss {metrics.log_loss(y_test, y_pred):.5f}\")"
   ]
  },
  {
   "cell_type": "code",
   "execution_count": 11,
   "metadata": {},
   "outputs": [
    {
     "data": {
      "text/plain": [
       "{'max_depth': 7, 'obj_alpha': 0.5, 'obj_gamma': 2}"
      ]
     },
     "execution_count": 11,
     "metadata": {},
     "output_type": "execute_result"
    }
   ],
   "source": [
    "from sklearn.model_selection import GridSearchCV\n",
    "param_grid = [\n",
    "    {'max_depth': [5, 7],\n",
    "    'obj_alpha': [0.2, 0.5],\n",
    "    'obj_gamma': [1, 2]}\n",
    "]\n",
    "\n",
    "model = CustomLGBMClassifier()\n",
    "search = GridSearchCV(model, param_grid, cv=5, scoring='roc_auc')\n",
    "search.fit(X_train, y_train)\n",
    "search.best_params_"
   ]
  },
  {
   "cell_type": "markdown",
   "metadata": {},
   "source": [
    "## References\n",
    "\n",
    "1. [Focal loss implementation for LightGBM](https://maxhalford.github.io/blog/lightgbm-focal-loss/)\n"
   ]
  }
 ],
 "metadata": {
  "kernelspec": {
   "display_name": "jupyter-lab",
   "language": "python",
   "name": "python3"
  },
  "language_info": {
   "codemirror_mode": {
    "name": "ipython",
    "version": 3
   },
   "file_extension": ".py",
   "mimetype": "text/x-python",
   "name": "python",
   "nbconvert_exporter": "python",
   "pygments_lexer": "ipython3",
   "version": "3.10.13"
  },
  "orig_nbformat": 4
 },
 "nbformat": 4,
 "nbformat_minor": 2
}
